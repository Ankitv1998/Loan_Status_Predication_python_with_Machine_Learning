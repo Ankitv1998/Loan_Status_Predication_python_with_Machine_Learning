{
  "metadata": {
    "language_info": {
      "codemirror_mode": {
        "name": "python",
        "version": 3
      },
      "file_extension": ".py",
      "mimetype": "text/x-python",
      "name": "python",
      "nbconvert_exporter": "python",
      "pygments_lexer": "ipython3",
      "version": "3.8"
    },
    "kernelspec": {
      "name": "python",
      "display_name": "Python (Pyodide)",
      "language": "python"
    }
  },
  "nbformat_minor": 4,
  "nbformat": 4,
  "cells": [
    {
      "cell_type": "code",
      "source": "#Loan status predication python with Machine Learning",
      "metadata": {
        "trusted": true
      },
      "execution_count": 1,
      "outputs": []
    },
    {
      "cell_type": "code",
      "source": "import numpy as num\nimport pandas as pd",
      "metadata": {
        "trusted": true
      },
      "execution_count": 2,
      "outputs": []
    },
    {
      "cell_type": "code",
      "source": "data =pd.read_csv(\"LoanApprovalPrediction.csv\")\n  \n\n",
      "metadata": {
        "trusted": true
      },
      "execution_count": 3,
      "outputs": []
    },
    {
      "cell_type": "code",
      "source": "data",
      "metadata": {
        "trusted": true
      },
      "execution_count": 4,
      "outputs": [
        {
          "execution_count": 4,
          "output_type": "execute_result",
          "data": {
            "text/plain": "      Loan_ID  Gender Married Dependents     Education Self_Employed  \\\n0    LP001002    Male      No          0      Graduate            No   \n1    LP001003    Male     Yes          1      Graduate            No   \n2    LP001005    Male     Yes          0      Graduate           Yes   \n3    LP001006    Male     Yes          0  Not Graduate            No   \n4    LP001008    Male      No          0      Graduate            No   \n..        ...     ...     ...        ...           ...           ...   \n609  LP002978  Female      No          0      Graduate            No   \n610  LP002979    Male     Yes         3+      Graduate            No   \n611  LP002983    Male     Yes          1      Graduate            No   \n612  LP002984    Male     Yes          2      Graduate            No   \n613  LP002990  Female      No          0      Graduate           Yes   \n\n     ApplicantIncome  CoapplicantIncome  Loan              Amount  \\\n0               5849                0.0                       NaN   \n1               4583             1508.0                     128.0   \n2               3000                0.0                      66.0   \n3               2583             2358.0                     120.0   \n4               6000                0.0                     141.0   \n..               ...                ...                       ...   \n609             2900                0.0                      71.0   \n610             4106                0.0                      40.0   \n611             8072              240.0                     253.0   \n612             7583                0.0                     187.0   \n613             4583                0.0                     133.0   \n\n     Loan_Amount_Term  Credit_History Property_Area Loan_Status  \n0               360.0             1.0         Urban           Y  \n1               360.0             1.0         Rural           N  \n2               360.0             1.0         Urban           Y  \n3               360.0             1.0         Urban           Y  \n4               360.0             1.0         Urban           Y  \n..                ...             ...           ...         ...  \n609             360.0             1.0         Rural           Y  \n610             180.0             1.0         Rural           Y  \n611             360.0             1.0         Urban           Y  \n612             360.0             1.0         Urban           Y  \n613             360.0             0.0     Semiurban           N  \n\n[614 rows x 13 columns]",
            "text/html": "<div>\n<style scoped>\n    .dataframe tbody tr th:only-of-type {\n        vertical-align: middle;\n    }\n\n    .dataframe tbody tr th {\n        vertical-align: top;\n    }\n\n    .dataframe thead th {\n        text-align: right;\n    }\n</style>\n<table border=\"1\" class=\"dataframe\">\n  <thead>\n    <tr style=\"text-align: right;\">\n      <th></th>\n      <th>Loan_ID</th>\n      <th>Gender</th>\n      <th>Married</th>\n      <th>Dependents</th>\n      <th>Education</th>\n      <th>Self_Employed</th>\n      <th>ApplicantIncome</th>\n      <th>CoapplicantIncome</th>\n      <th>Loan              Amount</th>\n      <th>Loan_Amount_Term</th>\n      <th>Credit_History</th>\n      <th>Property_Area</th>\n      <th>Loan_Status</th>\n    </tr>\n  </thead>\n  <tbody>\n    <tr>\n      <th>0</th>\n      <td>LP001002</td>\n      <td>Male</td>\n      <td>No</td>\n      <td>0</td>\n      <td>Graduate</td>\n      <td>No</td>\n      <td>5849</td>\n      <td>0.0</td>\n      <td>NaN</td>\n      <td>360.0</td>\n      <td>1.0</td>\n      <td>Urban</td>\n      <td>Y</td>\n    </tr>\n    <tr>\n      <th>1</th>\n      <td>LP001003</td>\n      <td>Male</td>\n      <td>Yes</td>\n      <td>1</td>\n      <td>Graduate</td>\n      <td>No</td>\n      <td>4583</td>\n      <td>1508.0</td>\n      <td>128.0</td>\n      <td>360.0</td>\n      <td>1.0</td>\n      <td>Rural</td>\n      <td>N</td>\n    </tr>\n    <tr>\n      <th>2</th>\n      <td>LP001005</td>\n      <td>Male</td>\n      <td>Yes</td>\n      <td>0</td>\n      <td>Graduate</td>\n      <td>Yes</td>\n      <td>3000</td>\n      <td>0.0</td>\n      <td>66.0</td>\n      <td>360.0</td>\n      <td>1.0</td>\n      <td>Urban</td>\n      <td>Y</td>\n    </tr>\n    <tr>\n      <th>3</th>\n      <td>LP001006</td>\n      <td>Male</td>\n      <td>Yes</td>\n      <td>0</td>\n      <td>Not Graduate</td>\n      <td>No</td>\n      <td>2583</td>\n      <td>2358.0</td>\n      <td>120.0</td>\n      <td>360.0</td>\n      <td>1.0</td>\n      <td>Urban</td>\n      <td>Y</td>\n    </tr>\n    <tr>\n      <th>4</th>\n      <td>LP001008</td>\n      <td>Male</td>\n      <td>No</td>\n      <td>0</td>\n      <td>Graduate</td>\n      <td>No</td>\n      <td>6000</td>\n      <td>0.0</td>\n      <td>141.0</td>\n      <td>360.0</td>\n      <td>1.0</td>\n      <td>Urban</td>\n      <td>Y</td>\n    </tr>\n    <tr>\n      <th>...</th>\n      <td>...</td>\n      <td>...</td>\n      <td>...</td>\n      <td>...</td>\n      <td>...</td>\n      <td>...</td>\n      <td>...</td>\n      <td>...</td>\n      <td>...</td>\n      <td>...</td>\n      <td>...</td>\n      <td>...</td>\n      <td>...</td>\n    </tr>\n    <tr>\n      <th>609</th>\n      <td>LP002978</td>\n      <td>Female</td>\n      <td>No</td>\n      <td>0</td>\n      <td>Graduate</td>\n      <td>No</td>\n      <td>2900</td>\n      <td>0.0</td>\n      <td>71.0</td>\n      <td>360.0</td>\n      <td>1.0</td>\n      <td>Rural</td>\n      <td>Y</td>\n    </tr>\n    <tr>\n      <th>610</th>\n      <td>LP002979</td>\n      <td>Male</td>\n      <td>Yes</td>\n      <td>3+</td>\n      <td>Graduate</td>\n      <td>No</td>\n      <td>4106</td>\n      <td>0.0</td>\n      <td>40.0</td>\n      <td>180.0</td>\n      <td>1.0</td>\n      <td>Rural</td>\n      <td>Y</td>\n    </tr>\n    <tr>\n      <th>611</th>\n      <td>LP002983</td>\n      <td>Male</td>\n      <td>Yes</td>\n      <td>1</td>\n      <td>Graduate</td>\n      <td>No</td>\n      <td>8072</td>\n      <td>240.0</td>\n      <td>253.0</td>\n      <td>360.0</td>\n      <td>1.0</td>\n      <td>Urban</td>\n      <td>Y</td>\n    </tr>\n    <tr>\n      <th>612</th>\n      <td>LP002984</td>\n      <td>Male</td>\n      <td>Yes</td>\n      <td>2</td>\n      <td>Graduate</td>\n      <td>No</td>\n      <td>7583</td>\n      <td>0.0</td>\n      <td>187.0</td>\n      <td>360.0</td>\n      <td>1.0</td>\n      <td>Urban</td>\n      <td>Y</td>\n    </tr>\n    <tr>\n      <th>613</th>\n      <td>LP002990</td>\n      <td>Female</td>\n      <td>No</td>\n      <td>0</td>\n      <td>Graduate</td>\n      <td>Yes</td>\n      <td>4583</td>\n      <td>0.0</td>\n      <td>133.0</td>\n      <td>360.0</td>\n      <td>0.0</td>\n      <td>Semiurban</td>\n      <td>N</td>\n    </tr>\n  </tbody>\n</table>\n<p>614 rows × 13 columns</p>\n</div>"
          },
          "metadata": {}
        }
      ]
    },
    {
      "cell_type": "code",
      "source": "data.head()",
      "metadata": {
        "trusted": true
      },
      "execution_count": 5,
      "outputs": [
        {
          "execution_count": 5,
          "output_type": "execute_result",
          "data": {
            "text/plain": "    Loan_ID Gender Married Dependents     Education Self_Employed  \\\n0  LP001002   Male      No          0      Graduate            No   \n1  LP001003   Male     Yes          1      Graduate            No   \n2  LP001005   Male     Yes          0      Graduate           Yes   \n3  LP001006   Male     Yes          0  Not Graduate            No   \n4  LP001008   Male      No          0      Graduate            No   \n\n   ApplicantIncome  CoapplicantIncome  Loan              Amount  \\\n0             5849                0.0                       NaN   \n1             4583             1508.0                     128.0   \n2             3000                0.0                      66.0   \n3             2583             2358.0                     120.0   \n4             6000                0.0                     141.0   \n\n   Loan_Amount_Term  Credit_History Property_Area Loan_Status  \n0             360.0             1.0         Urban           Y  \n1             360.0             1.0         Rural           N  \n2             360.0             1.0         Urban           Y  \n3             360.0             1.0         Urban           Y  \n4             360.0             1.0         Urban           Y  ",
            "text/html": "<div>\n<style scoped>\n    .dataframe tbody tr th:only-of-type {\n        vertical-align: middle;\n    }\n\n    .dataframe tbody tr th {\n        vertical-align: top;\n    }\n\n    .dataframe thead th {\n        text-align: right;\n    }\n</style>\n<table border=\"1\" class=\"dataframe\">\n  <thead>\n    <tr style=\"text-align: right;\">\n      <th></th>\n      <th>Loan_ID</th>\n      <th>Gender</th>\n      <th>Married</th>\n      <th>Dependents</th>\n      <th>Education</th>\n      <th>Self_Employed</th>\n      <th>ApplicantIncome</th>\n      <th>CoapplicantIncome</th>\n      <th>Loan              Amount</th>\n      <th>Loan_Amount_Term</th>\n      <th>Credit_History</th>\n      <th>Property_Area</th>\n      <th>Loan_Status</th>\n    </tr>\n  </thead>\n  <tbody>\n    <tr>\n      <th>0</th>\n      <td>LP001002</td>\n      <td>Male</td>\n      <td>No</td>\n      <td>0</td>\n      <td>Graduate</td>\n      <td>No</td>\n      <td>5849</td>\n      <td>0.0</td>\n      <td>NaN</td>\n      <td>360.0</td>\n      <td>1.0</td>\n      <td>Urban</td>\n      <td>Y</td>\n    </tr>\n    <tr>\n      <th>1</th>\n      <td>LP001003</td>\n      <td>Male</td>\n      <td>Yes</td>\n      <td>1</td>\n      <td>Graduate</td>\n      <td>No</td>\n      <td>4583</td>\n      <td>1508.0</td>\n      <td>128.0</td>\n      <td>360.0</td>\n      <td>1.0</td>\n      <td>Rural</td>\n      <td>N</td>\n    </tr>\n    <tr>\n      <th>2</th>\n      <td>LP001005</td>\n      <td>Male</td>\n      <td>Yes</td>\n      <td>0</td>\n      <td>Graduate</td>\n      <td>Yes</td>\n      <td>3000</td>\n      <td>0.0</td>\n      <td>66.0</td>\n      <td>360.0</td>\n      <td>1.0</td>\n      <td>Urban</td>\n      <td>Y</td>\n    </tr>\n    <tr>\n      <th>3</th>\n      <td>LP001006</td>\n      <td>Male</td>\n      <td>Yes</td>\n      <td>0</td>\n      <td>Not Graduate</td>\n      <td>No</td>\n      <td>2583</td>\n      <td>2358.0</td>\n      <td>120.0</td>\n      <td>360.0</td>\n      <td>1.0</td>\n      <td>Urban</td>\n      <td>Y</td>\n    </tr>\n    <tr>\n      <th>4</th>\n      <td>LP001008</td>\n      <td>Male</td>\n      <td>No</td>\n      <td>0</td>\n      <td>Graduate</td>\n      <td>No</td>\n      <td>6000</td>\n      <td>0.0</td>\n      <td>141.0</td>\n      <td>360.0</td>\n      <td>1.0</td>\n      <td>Urban</td>\n      <td>Y</td>\n    </tr>\n  </tbody>\n</table>\n</div>"
          },
          "metadata": {}
        }
      ]
    },
    {
      "cell_type": "code",
      "source": "data.head(10)",
      "metadata": {
        "trusted": true
      },
      "execution_count": 6,
      "outputs": [
        {
          "execution_count": 6,
          "output_type": "execute_result",
          "data": {
            "text/plain": "    Loan_ID       Gender Married Dependents     Education Self_Employed  \\\n0  LP001002         Male      No          0      Graduate            No   \n1  LP001003         Male     Yes          1      Graduate            No   \n2  LP001005         Male     Yes          0      Graduate           Yes   \n3  LP001006         Male     Yes          0  Not Graduate            No   \n4  LP001008         Male      No          0      Graduate            No   \n5  LP001011  Transgender     Yes          2      Graduate           Yes   \n6  LP001013         Male     Yes          0  Not Graduate            No   \n7  LP001014         Male     Yes         3+      Graduate            No   \n8  LP001018         Male     Yes          2      Graduate            No   \n9  LP001020         Male     Yes          1      Graduate            No   \n\n   ApplicantIncome  CoapplicantIncome  Loan              Amount  \\\n0             5849                0.0                       NaN   \n1             4583             1508.0                     128.0   \n2             3000                0.0                      66.0   \n3             2583             2358.0                     120.0   \n4             6000                0.0                     141.0   \n5             5417             4196.0                     267.0   \n6             2333             1516.0                      95.0   \n7             3036             2504.0                     158.0   \n8             4006             1526.0                     168.0   \n9            12841            10968.0                     349.0   \n\n   Loan_Amount_Term  Credit_History Property_Area Loan_Status  \n0             360.0             1.0         Urban           Y  \n1             360.0             1.0         Rural           N  \n2             360.0             1.0         Urban           Y  \n3             360.0             1.0         Urban           Y  \n4             360.0             1.0         Urban           Y  \n5             360.0             1.0         Urban           Y  \n6             360.0             1.0         Urban           Y  \n7             360.0             0.0     Semiurban           N  \n8             360.0             1.0         Urban           Y  \n9             360.0             1.0     Semiurban           N  ",
            "text/html": "<div>\n<style scoped>\n    .dataframe tbody tr th:only-of-type {\n        vertical-align: middle;\n    }\n\n    .dataframe tbody tr th {\n        vertical-align: top;\n    }\n\n    .dataframe thead th {\n        text-align: right;\n    }\n</style>\n<table border=\"1\" class=\"dataframe\">\n  <thead>\n    <tr style=\"text-align: right;\">\n      <th></th>\n      <th>Loan_ID</th>\n      <th>Gender</th>\n      <th>Married</th>\n      <th>Dependents</th>\n      <th>Education</th>\n      <th>Self_Employed</th>\n      <th>ApplicantIncome</th>\n      <th>CoapplicantIncome</th>\n      <th>Loan              Amount</th>\n      <th>Loan_Amount_Term</th>\n      <th>Credit_History</th>\n      <th>Property_Area</th>\n      <th>Loan_Status</th>\n    </tr>\n  </thead>\n  <tbody>\n    <tr>\n      <th>0</th>\n      <td>LP001002</td>\n      <td>Male</td>\n      <td>No</td>\n      <td>0</td>\n      <td>Graduate</td>\n      <td>No</td>\n      <td>5849</td>\n      <td>0.0</td>\n      <td>NaN</td>\n      <td>360.0</td>\n      <td>1.0</td>\n      <td>Urban</td>\n      <td>Y</td>\n    </tr>\n    <tr>\n      <th>1</th>\n      <td>LP001003</td>\n      <td>Male</td>\n      <td>Yes</td>\n      <td>1</td>\n      <td>Graduate</td>\n      <td>No</td>\n      <td>4583</td>\n      <td>1508.0</td>\n      <td>128.0</td>\n      <td>360.0</td>\n      <td>1.0</td>\n      <td>Rural</td>\n      <td>N</td>\n    </tr>\n    <tr>\n      <th>2</th>\n      <td>LP001005</td>\n      <td>Male</td>\n      <td>Yes</td>\n      <td>0</td>\n      <td>Graduate</td>\n      <td>Yes</td>\n      <td>3000</td>\n      <td>0.0</td>\n      <td>66.0</td>\n      <td>360.0</td>\n      <td>1.0</td>\n      <td>Urban</td>\n      <td>Y</td>\n    </tr>\n    <tr>\n      <th>3</th>\n      <td>LP001006</td>\n      <td>Male</td>\n      <td>Yes</td>\n      <td>0</td>\n      <td>Not Graduate</td>\n      <td>No</td>\n      <td>2583</td>\n      <td>2358.0</td>\n      <td>120.0</td>\n      <td>360.0</td>\n      <td>1.0</td>\n      <td>Urban</td>\n      <td>Y</td>\n    </tr>\n    <tr>\n      <th>4</th>\n      <td>LP001008</td>\n      <td>Male</td>\n      <td>No</td>\n      <td>0</td>\n      <td>Graduate</td>\n      <td>No</td>\n      <td>6000</td>\n      <td>0.0</td>\n      <td>141.0</td>\n      <td>360.0</td>\n      <td>1.0</td>\n      <td>Urban</td>\n      <td>Y</td>\n    </tr>\n    <tr>\n      <th>5</th>\n      <td>LP001011</td>\n      <td>Transgender</td>\n      <td>Yes</td>\n      <td>2</td>\n      <td>Graduate</td>\n      <td>Yes</td>\n      <td>5417</td>\n      <td>4196.0</td>\n      <td>267.0</td>\n      <td>360.0</td>\n      <td>1.0</td>\n      <td>Urban</td>\n      <td>Y</td>\n    </tr>\n    <tr>\n      <th>6</th>\n      <td>LP001013</td>\n      <td>Male</td>\n      <td>Yes</td>\n      <td>0</td>\n      <td>Not Graduate</td>\n      <td>No</td>\n      <td>2333</td>\n      <td>1516.0</td>\n      <td>95.0</td>\n      <td>360.0</td>\n      <td>1.0</td>\n      <td>Urban</td>\n      <td>Y</td>\n    </tr>\n    <tr>\n      <th>7</th>\n      <td>LP001014</td>\n      <td>Male</td>\n      <td>Yes</td>\n      <td>3+</td>\n      <td>Graduate</td>\n      <td>No</td>\n      <td>3036</td>\n      <td>2504.0</td>\n      <td>158.0</td>\n      <td>360.0</td>\n      <td>0.0</td>\n      <td>Semiurban</td>\n      <td>N</td>\n    </tr>\n    <tr>\n      <th>8</th>\n      <td>LP001018</td>\n      <td>Male</td>\n      <td>Yes</td>\n      <td>2</td>\n      <td>Graduate</td>\n      <td>No</td>\n      <td>4006</td>\n      <td>1526.0</td>\n      <td>168.0</td>\n      <td>360.0</td>\n      <td>1.0</td>\n      <td>Urban</td>\n      <td>Y</td>\n    </tr>\n    <tr>\n      <th>9</th>\n      <td>LP001020</td>\n      <td>Male</td>\n      <td>Yes</td>\n      <td>1</td>\n      <td>Graduate</td>\n      <td>No</td>\n      <td>12841</td>\n      <td>10968.0</td>\n      <td>349.0</td>\n      <td>360.0</td>\n      <td>1.0</td>\n      <td>Semiurban</td>\n      <td>N</td>\n    </tr>\n  </tbody>\n</table>\n</div>"
          },
          "metadata": {}
        }
      ]
    },
    {
      "cell_type": "code",
      "source": "data = pd.read_csv(\"LoanApprovalPrediction.csv\")\ndata.head(616)",
      "metadata": {
        "trusted": true
      },
      "execution_count": 7,
      "outputs": [
        {
          "execution_count": 7,
          "output_type": "execute_result",
          "data": {
            "text/plain": "      Loan_ID  Gender Married Dependents     Education Self_Employed  \\\n0    LP001002    Male      No          0      Graduate            No   \n1    LP001003    Male     Yes          1      Graduate            No   \n2    LP001005    Male     Yes          0      Graduate           Yes   \n3    LP001006    Male     Yes          0  Not Graduate            No   \n4    LP001008    Male      No          0      Graduate            No   \n..        ...     ...     ...        ...           ...           ...   \n609  LP002978  Female      No          0      Graduate            No   \n610  LP002979    Male     Yes         3+      Graduate            No   \n611  LP002983    Male     Yes          1      Graduate            No   \n612  LP002984    Male     Yes          2      Graduate            No   \n613  LP002990  Female      No          0      Graduate           Yes   \n\n     ApplicantIncome  CoapplicantIncome  Loan              Amount  \\\n0               5849                0.0                       NaN   \n1               4583             1508.0                     128.0   \n2               3000                0.0                      66.0   \n3               2583             2358.0                     120.0   \n4               6000                0.0                     141.0   \n..               ...                ...                       ...   \n609             2900                0.0                      71.0   \n610             4106                0.0                      40.0   \n611             8072              240.0                     253.0   \n612             7583                0.0                     187.0   \n613             4583                0.0                     133.0   \n\n     Loan_Amount_Term  Credit_History Property_Area Loan_Status  \n0               360.0             1.0         Urban           Y  \n1               360.0             1.0         Rural           N  \n2               360.0             1.0         Urban           Y  \n3               360.0             1.0         Urban           Y  \n4               360.0             1.0         Urban           Y  \n..                ...             ...           ...         ...  \n609             360.0             1.0         Rural           Y  \n610             180.0             1.0         Rural           Y  \n611             360.0             1.0         Urban           Y  \n612             360.0             1.0         Urban           Y  \n613             360.0             0.0     Semiurban           N  \n\n[614 rows x 13 columns]",
            "text/html": "<div>\n<style scoped>\n    .dataframe tbody tr th:only-of-type {\n        vertical-align: middle;\n    }\n\n    .dataframe tbody tr th {\n        vertical-align: top;\n    }\n\n    .dataframe thead th {\n        text-align: right;\n    }\n</style>\n<table border=\"1\" class=\"dataframe\">\n  <thead>\n    <tr style=\"text-align: right;\">\n      <th></th>\n      <th>Loan_ID</th>\n      <th>Gender</th>\n      <th>Married</th>\n      <th>Dependents</th>\n      <th>Education</th>\n      <th>Self_Employed</th>\n      <th>ApplicantIncome</th>\n      <th>CoapplicantIncome</th>\n      <th>Loan              Amount</th>\n      <th>Loan_Amount_Term</th>\n      <th>Credit_History</th>\n      <th>Property_Area</th>\n      <th>Loan_Status</th>\n    </tr>\n  </thead>\n  <tbody>\n    <tr>\n      <th>0</th>\n      <td>LP001002</td>\n      <td>Male</td>\n      <td>No</td>\n      <td>0</td>\n      <td>Graduate</td>\n      <td>No</td>\n      <td>5849</td>\n      <td>0.0</td>\n      <td>NaN</td>\n      <td>360.0</td>\n      <td>1.0</td>\n      <td>Urban</td>\n      <td>Y</td>\n    </tr>\n    <tr>\n      <th>1</th>\n      <td>LP001003</td>\n      <td>Male</td>\n      <td>Yes</td>\n      <td>1</td>\n      <td>Graduate</td>\n      <td>No</td>\n      <td>4583</td>\n      <td>1508.0</td>\n      <td>128.0</td>\n      <td>360.0</td>\n      <td>1.0</td>\n      <td>Rural</td>\n      <td>N</td>\n    </tr>\n    <tr>\n      <th>2</th>\n      <td>LP001005</td>\n      <td>Male</td>\n      <td>Yes</td>\n      <td>0</td>\n      <td>Graduate</td>\n      <td>Yes</td>\n      <td>3000</td>\n      <td>0.0</td>\n      <td>66.0</td>\n      <td>360.0</td>\n      <td>1.0</td>\n      <td>Urban</td>\n      <td>Y</td>\n    </tr>\n    <tr>\n      <th>3</th>\n      <td>LP001006</td>\n      <td>Male</td>\n      <td>Yes</td>\n      <td>0</td>\n      <td>Not Graduate</td>\n      <td>No</td>\n      <td>2583</td>\n      <td>2358.0</td>\n      <td>120.0</td>\n      <td>360.0</td>\n      <td>1.0</td>\n      <td>Urban</td>\n      <td>Y</td>\n    </tr>\n    <tr>\n      <th>4</th>\n      <td>LP001008</td>\n      <td>Male</td>\n      <td>No</td>\n      <td>0</td>\n      <td>Graduate</td>\n      <td>No</td>\n      <td>6000</td>\n      <td>0.0</td>\n      <td>141.0</td>\n      <td>360.0</td>\n      <td>1.0</td>\n      <td>Urban</td>\n      <td>Y</td>\n    </tr>\n    <tr>\n      <th>...</th>\n      <td>...</td>\n      <td>...</td>\n      <td>...</td>\n      <td>...</td>\n      <td>...</td>\n      <td>...</td>\n      <td>...</td>\n      <td>...</td>\n      <td>...</td>\n      <td>...</td>\n      <td>...</td>\n      <td>...</td>\n      <td>...</td>\n    </tr>\n    <tr>\n      <th>609</th>\n      <td>LP002978</td>\n      <td>Female</td>\n      <td>No</td>\n      <td>0</td>\n      <td>Graduate</td>\n      <td>No</td>\n      <td>2900</td>\n      <td>0.0</td>\n      <td>71.0</td>\n      <td>360.0</td>\n      <td>1.0</td>\n      <td>Rural</td>\n      <td>Y</td>\n    </tr>\n    <tr>\n      <th>610</th>\n      <td>LP002979</td>\n      <td>Male</td>\n      <td>Yes</td>\n      <td>3+</td>\n      <td>Graduate</td>\n      <td>No</td>\n      <td>4106</td>\n      <td>0.0</td>\n      <td>40.0</td>\n      <td>180.0</td>\n      <td>1.0</td>\n      <td>Rural</td>\n      <td>Y</td>\n    </tr>\n    <tr>\n      <th>611</th>\n      <td>LP002983</td>\n      <td>Male</td>\n      <td>Yes</td>\n      <td>1</td>\n      <td>Graduate</td>\n      <td>No</td>\n      <td>8072</td>\n      <td>240.0</td>\n      <td>253.0</td>\n      <td>360.0</td>\n      <td>1.0</td>\n      <td>Urban</td>\n      <td>Y</td>\n    </tr>\n    <tr>\n      <th>612</th>\n      <td>LP002984</td>\n      <td>Male</td>\n      <td>Yes</td>\n      <td>2</td>\n      <td>Graduate</td>\n      <td>No</td>\n      <td>7583</td>\n      <td>0.0</td>\n      <td>187.0</td>\n      <td>360.0</td>\n      <td>1.0</td>\n      <td>Urban</td>\n      <td>Y</td>\n    </tr>\n    <tr>\n      <th>613</th>\n      <td>LP002990</td>\n      <td>Female</td>\n      <td>No</td>\n      <td>0</td>\n      <td>Graduate</td>\n      <td>Yes</td>\n      <td>4583</td>\n      <td>0.0</td>\n      <td>133.0</td>\n      <td>360.0</td>\n      <td>0.0</td>\n      <td>Semiurban</td>\n      <td>N</td>\n    </tr>\n  </tbody>\n</table>\n<p>614 rows × 13 columns</p>\n</div>"
          },
          "metadata": {}
        }
      ]
    },
    {
      "cell_type": "code",
      "source": "#find the row and column\nprint(data.shape)",
      "metadata": {
        "trusted": true
      },
      "execution_count": 8,
      "outputs": [
        {
          "name": "stdout",
          "text": "(614, 13)\n",
          "output_type": "stream"
        }
      ]
    },
    {
      "cell_type": "code",
      "source": "data.shape",
      "metadata": {
        "trusted": true
      },
      "execution_count": 9,
      "outputs": [
        {
          "execution_count": 9,
          "output_type": "execute_result",
          "data": {
            "text/plain": "(614, 13)"
          },
          "metadata": {}
        }
      ]
    },
    {
      "cell_type": "code",
      "source": "print('No of Row=',data.shape[0])\nprint('No of Columns=',data.shape[1])",
      "metadata": {
        "trusted": true
      },
      "execution_count": 10,
      "outputs": [
        {
          "name": "stdout",
          "text": "No of Row= 614\nNo of Columns= 13\n",
          "output_type": "stream"
        }
      ]
    },
    {
      "cell_type": "code",
      "source": "#loan Id count only show on true / drop:- Remove\ndata.Loan_ID.value_counts(dropna=False)",
      "metadata": {
        "trusted": true
      },
      "execution_count": 11,
      "outputs": [
        {
          "execution_count": 11,
          "output_type": "execute_result",
          "data": {
            "text/plain": "LP001002    1\nLP002328    1\nLP002305    1\nLP002308    1\nLP002314    1\n           ..\nLP001692    1\nLP001693    1\nLP001698    1\nLP001699    1\nLP002990    1\nName: Loan_ID, Length: 614, dtype: int64"
          },
          "metadata": {}
        }
      ]
    },
    {
      "cell_type": "code",
      "source": "#Gender\ndata.Gender.value_counts(dropna=False)",
      "metadata": {
        "trusted": true
      },
      "execution_count": 12,
      "outputs": [
        {
          "execution_count": 12,
          "output_type": "execute_result",
          "data": {
            "text/plain": "Male           482\nFemale         110\nNaN             13\nTransgender      9\nName: Gender, dtype: int64"
          },
          "metadata": {}
        }
      ]
    },
    {
      "cell_type": "code",
      "source": "#count Percentage of Male and female applicant\ncountMale = len(data[data.Gender == 'Male'])\ncountFemale = len(data[data.Gender == 'Female'])\ncountTransgender=len(data[data.Gender== 'Transgender'])\ncountNull = len(data[data.Gender.isnull()])\n\nprint(\"Percentage of Male applicant: {:.2f}%\".format((countMale / (len(data.Gender))*100)))\nprint(\"Percentage of Female applicant: {:.2f}%\".format((countFemale / (len(data.Gender))*100)))\nprint(\"Percentage of Transgender applicant: {:.2f}%\".format((countTransgender/(len(data.Gender))*100)))\nprint(\"Missing values percentage: {:.2f}%\".format((countNull / (len(data.Gender))*100)))",
      "metadata": {
        "trusted": true
      },
      "execution_count": 13,
      "outputs": [
        {
          "name": "stdout",
          "text": "Percentage of Male applicant: 78.50%\nPercentage of Female applicant: 17.92%\nPercentage of Transgender applicant: 1.47%\nMissing values percentage: 2.12%\n",
          "output_type": "stream"
        }
      ]
    },
    {
      "cell_type": "code",
      "source": "#Married\ndata.Married.value_counts(dropna=False)",
      "metadata": {
        "trusted": true
      },
      "execution_count": 14,
      "outputs": [
        {
          "execution_count": 14,
          "output_type": "execute_result",
          "data": {
            "text/plain": "Yes    398\nNo     213\nNaN      3\nName: Married, dtype: int64"
          },
          "metadata": {}
        }
      ]
    },
    {
      "cell_type": "code",
      "source": "data.info()",
      "metadata": {
        "trusted": true
      },
      "execution_count": 15,
      "outputs": [
        {
          "name": "stdout",
          "text": "<class 'pandas.core.frame.DataFrame'>\nRangeIndex: 614 entries, 0 to 613\nData columns (total 13 columns):\n #   Column                    Non-Null Count  Dtype  \n---  ------                    --------------  -----  \n 0   Loan_ID                   614 non-null    object \n 1   Gender                    601 non-null    object \n 2   Married                   611 non-null    object \n 3   Dependents                599 non-null    object \n 4   Education                 614 non-null    object \n 5   Self_Employed             582 non-null    object \n 6   ApplicantIncome           614 non-null    int64  \n 7   CoapplicantIncome         614 non-null    float64\n 8   Loan              Amount  592 non-null    float64\n 9   Loan_Amount_Term          600 non-null    float64\n 10  Credit_History            564 non-null    float64\n 11  Property_Area             614 non-null    object \n 12  Loan_Status               614 non-null    object \ndtypes: float64(4), int64(1), object(8)\nmemory usage: 43.2+ KB\n",
          "output_type": "stream"
        }
      ]
    },
    {
      "cell_type": "code",
      "source": "#Handling the Missing Value",
      "metadata": {
        "trusted": true
      },
      "execution_count": 16,
      "outputs": []
    },
    {
      "cell_type": "code",
      "source": "data.isnull()",
      "metadata": {
        "trusted": true
      },
      "execution_count": 17,
      "outputs": [
        {
          "execution_count": 17,
          "output_type": "execute_result",
          "data": {
            "text/plain": "     Loan_ID  Gender  Married  Dependents  Education  Self_Employed  \\\n0      False   False    False       False      False          False   \n1      False   False    False       False      False          False   \n2      False   False    False       False      False          False   \n3      False   False    False       False      False          False   \n4      False   False    False       False      False          False   \n..       ...     ...      ...         ...        ...            ...   \n609    False   False    False       False      False          False   \n610    False   False    False       False      False          False   \n611    False   False    False       False      False          False   \n612    False   False    False       False      False          False   \n613    False   False    False       False      False          False   \n\n     ApplicantIncome  CoapplicantIncome  Loan              Amount  \\\n0              False              False                      True   \n1              False              False                     False   \n2              False              False                     False   \n3              False              False                     False   \n4              False              False                     False   \n..               ...                ...                       ...   \n609            False              False                     False   \n610            False              False                     False   \n611            False              False                     False   \n612            False              False                     False   \n613            False              False                     False   \n\n     Loan_Amount_Term  Credit_History  Property_Area  Loan_Status  \n0               False           False          False        False  \n1               False           False          False        False  \n2               False           False          False        False  \n3               False           False          False        False  \n4               False           False          False        False  \n..                ...             ...            ...          ...  \n609             False           False          False        False  \n610             False           False          False        False  \n611             False           False          False        False  \n612             False           False          False        False  \n613             False           False          False        False  \n\n[614 rows x 13 columns]",
            "text/html": "<div>\n<style scoped>\n    .dataframe tbody tr th:only-of-type {\n        vertical-align: middle;\n    }\n\n    .dataframe tbody tr th {\n        vertical-align: top;\n    }\n\n    .dataframe thead th {\n        text-align: right;\n    }\n</style>\n<table border=\"1\" class=\"dataframe\">\n  <thead>\n    <tr style=\"text-align: right;\">\n      <th></th>\n      <th>Loan_ID</th>\n      <th>Gender</th>\n      <th>Married</th>\n      <th>Dependents</th>\n      <th>Education</th>\n      <th>Self_Employed</th>\n      <th>ApplicantIncome</th>\n      <th>CoapplicantIncome</th>\n      <th>Loan              Amount</th>\n      <th>Loan_Amount_Term</th>\n      <th>Credit_History</th>\n      <th>Property_Area</th>\n      <th>Loan_Status</th>\n    </tr>\n  </thead>\n  <tbody>\n    <tr>\n      <th>0</th>\n      <td>False</td>\n      <td>False</td>\n      <td>False</td>\n      <td>False</td>\n      <td>False</td>\n      <td>False</td>\n      <td>False</td>\n      <td>False</td>\n      <td>True</td>\n      <td>False</td>\n      <td>False</td>\n      <td>False</td>\n      <td>False</td>\n    </tr>\n    <tr>\n      <th>1</th>\n      <td>False</td>\n      <td>False</td>\n      <td>False</td>\n      <td>False</td>\n      <td>False</td>\n      <td>False</td>\n      <td>False</td>\n      <td>False</td>\n      <td>False</td>\n      <td>False</td>\n      <td>False</td>\n      <td>False</td>\n      <td>False</td>\n    </tr>\n    <tr>\n      <th>2</th>\n      <td>False</td>\n      <td>False</td>\n      <td>False</td>\n      <td>False</td>\n      <td>False</td>\n      <td>False</td>\n      <td>False</td>\n      <td>False</td>\n      <td>False</td>\n      <td>False</td>\n      <td>False</td>\n      <td>False</td>\n      <td>False</td>\n    </tr>\n    <tr>\n      <th>3</th>\n      <td>False</td>\n      <td>False</td>\n      <td>False</td>\n      <td>False</td>\n      <td>False</td>\n      <td>False</td>\n      <td>False</td>\n      <td>False</td>\n      <td>False</td>\n      <td>False</td>\n      <td>False</td>\n      <td>False</td>\n      <td>False</td>\n    </tr>\n    <tr>\n      <th>4</th>\n      <td>False</td>\n      <td>False</td>\n      <td>False</td>\n      <td>False</td>\n      <td>False</td>\n      <td>False</td>\n      <td>False</td>\n      <td>False</td>\n      <td>False</td>\n      <td>False</td>\n      <td>False</td>\n      <td>False</td>\n      <td>False</td>\n    </tr>\n    <tr>\n      <th>...</th>\n      <td>...</td>\n      <td>...</td>\n      <td>...</td>\n      <td>...</td>\n      <td>...</td>\n      <td>...</td>\n      <td>...</td>\n      <td>...</td>\n      <td>...</td>\n      <td>...</td>\n      <td>...</td>\n      <td>...</td>\n      <td>...</td>\n    </tr>\n    <tr>\n      <th>609</th>\n      <td>False</td>\n      <td>False</td>\n      <td>False</td>\n      <td>False</td>\n      <td>False</td>\n      <td>False</td>\n      <td>False</td>\n      <td>False</td>\n      <td>False</td>\n      <td>False</td>\n      <td>False</td>\n      <td>False</td>\n      <td>False</td>\n    </tr>\n    <tr>\n      <th>610</th>\n      <td>False</td>\n      <td>False</td>\n      <td>False</td>\n      <td>False</td>\n      <td>False</td>\n      <td>False</td>\n      <td>False</td>\n      <td>False</td>\n      <td>False</td>\n      <td>False</td>\n      <td>False</td>\n      <td>False</td>\n      <td>False</td>\n    </tr>\n    <tr>\n      <th>611</th>\n      <td>False</td>\n      <td>False</td>\n      <td>False</td>\n      <td>False</td>\n      <td>False</td>\n      <td>False</td>\n      <td>False</td>\n      <td>False</td>\n      <td>False</td>\n      <td>False</td>\n      <td>False</td>\n      <td>False</td>\n      <td>False</td>\n    </tr>\n    <tr>\n      <th>612</th>\n      <td>False</td>\n      <td>False</td>\n      <td>False</td>\n      <td>False</td>\n      <td>False</td>\n      <td>False</td>\n      <td>False</td>\n      <td>False</td>\n      <td>False</td>\n      <td>False</td>\n      <td>False</td>\n      <td>False</td>\n      <td>False</td>\n    </tr>\n    <tr>\n      <th>613</th>\n      <td>False</td>\n      <td>False</td>\n      <td>False</td>\n      <td>False</td>\n      <td>False</td>\n      <td>False</td>\n      <td>False</td>\n      <td>False</td>\n      <td>False</td>\n      <td>False</td>\n      <td>False</td>\n      <td>False</td>\n      <td>False</td>\n    </tr>\n  </tbody>\n</table>\n<p>614 rows × 13 columns</p>\n</div>"
          },
          "metadata": {}
        }
      ]
    },
    {
      "cell_type": "code",
      "source": "data=data.drop('Loan_ID',axis=1)",
      "metadata": {
        "trusted": true
      },
      "execution_count": 18,
      "outputs": []
    },
    {
      "cell_type": "code",
      "source": "data.head(1)",
      "metadata": {
        "trusted": true
      },
      "execution_count": 19,
      "outputs": [
        {
          "execution_count": 19,
          "output_type": "execute_result",
          "data": {
            "text/plain": "  Gender Married Dependents Education Self_Employed  ApplicantIncome  \\\n0   Male      No          0  Graduate            No             5849   \n\n   CoapplicantIncome  Loan              Amount  Loan_Amount_Term  \\\n0                0.0                       NaN             360.0   \n\n   Credit_History Property_Area Loan_Status  \n0             1.0         Urban           Y  ",
            "text/html": "<div>\n<style scoped>\n    .dataframe tbody tr th:only-of-type {\n        vertical-align: middle;\n    }\n\n    .dataframe tbody tr th {\n        vertical-align: top;\n    }\n\n    .dataframe thead th {\n        text-align: right;\n    }\n</style>\n<table border=\"1\" class=\"dataframe\">\n  <thead>\n    <tr style=\"text-align: right;\">\n      <th></th>\n      <th>Gender</th>\n      <th>Married</th>\n      <th>Dependents</th>\n      <th>Education</th>\n      <th>Self_Employed</th>\n      <th>ApplicantIncome</th>\n      <th>CoapplicantIncome</th>\n      <th>Loan              Amount</th>\n      <th>Loan_Amount_Term</th>\n      <th>Credit_History</th>\n      <th>Property_Area</th>\n      <th>Loan_Status</th>\n    </tr>\n  </thead>\n  <tbody>\n    <tr>\n      <th>0</th>\n      <td>Male</td>\n      <td>No</td>\n      <td>0</td>\n      <td>Graduate</td>\n      <td>No</td>\n      <td>5849</td>\n      <td>0.0</td>\n      <td>NaN</td>\n      <td>360.0</td>\n      <td>1.0</td>\n      <td>Urban</td>\n      <td>Y</td>\n    </tr>\n  </tbody>\n</table>\n</div>"
          },
          "metadata": {}
        }
      ]
    },
    {
      "cell_type": "code",
      "source": "#Count and sum of null value \ndata.isnull().sum()",
      "metadata": {
        "trusted": true
      },
      "execution_count": 20,
      "outputs": [
        {
          "execution_count": 20,
          "output_type": "execute_result",
          "data": {
            "text/plain": "Gender                      13\nMarried                      3\nDependents                  15\nEducation                    0\nSelf_Employed               32\nApplicantIncome              0\nCoapplicantIncome            0\nLoan              Amount    22\nLoan_Amount_Term            14\nCredit_History              50\nProperty_Area                0\nLoan_Status                  0\ndtype: int64"
          },
          "metadata": {}
        }
      ]
    },
    {
      "cell_type": "code",
      "source": "#find percentage of sum of null value of Total value",
      "metadata": {
        "trusted": true
      },
      "execution_count": 21,
      "outputs": []
    },
    {
      "cell_type": "code",
      "source": "data.isnull().sum()*100 / len(data)",
      "metadata": {
        "trusted": true
      },
      "execution_count": 22,
      "outputs": [
        {
          "execution_count": 22,
          "output_type": "execute_result",
          "data": {
            "text/plain": "Gender                      2.117264\nMarried                     0.488599\nDependents                  2.442997\nEducation                   0.000000\nSelf_Employed               5.211726\nApplicantIncome             0.000000\nCoapplicantIncome           0.000000\nLoan              Amount    3.583062\nLoan_Amount_Term            2.280130\nCredit_History              8.143322\nProperty_Area               0.000000\nLoan_Status                 0.000000\ndtype: float64"
          },
          "metadata": {}
        }
      ]
    },
    {
      "cell_type": "code",
      "source": "#Highest Null value of Percentage is Credit_History->8.14\n#if 70% training data:-consider on Self_Employed--> 5.21\n#Remove null value is less than 5.21 all columns",
      "metadata": {
        "trusted": true
      },
      "execution_count": 23,
      "outputs": []
    },
    {
      "cell_type": "code",
      "source": "columns=['Gender','Dependents','Loan              Amount','Loan_Amount_Term']",
      "metadata": {
        "trusted": true
      },
      "execution_count": 24,
      "outputs": []
    },
    {
      "cell_type": "code",
      "source": "data= data.dropna(subset=columns)",
      "metadata": {
        "trusted": true
      },
      "execution_count": 25,
      "outputs": []
    },
    {
      "cell_type": "code",
      "source": "data.isnull().sum()*100/ len(data)",
      "metadata": {
        "trusted": true
      },
      "execution_count": 26,
      "outputs": [
        {
          "execution_count": 26,
          "output_type": "execute_result",
          "data": {
            "text/plain": "Gender                      0.000000\nMarried                     0.000000\nDependents                  0.000000\nEducation                   0.000000\nSelf_Employed               5.424955\nApplicantIncome             0.000000\nCoapplicantIncome           0.000000\nLoan              Amount    0.000000\nLoan_Amount_Term            0.000000\nCredit_History              8.679928\nProperty_Area               0.000000\nLoan_Status                 0.000000\ndtype: float64"
          },
          "metadata": {}
        }
      ]
    },
    {
      "cell_type": "code",
      "source": "#Remove null value:-Gender,Dependents,LoanAmount,Loan_Amount_Term",
      "metadata": {
        "trusted": true
      },
      "execution_count": 27,
      "outputs": []
    },
    {
      "cell_type": "code",
      "source": "data['Self_Employed'].mode()[0]",
      "metadata": {
        "trusted": true
      },
      "execution_count": 28,
      "outputs": [
        {
          "execution_count": 28,
          "output_type": "execute_result",
          "data": {
            "text/plain": "'No'"
          },
          "metadata": {}
        }
      ]
    },
    {
      "cell_type": "code",
      "source": "data['Self_Employed']=data['Self_Employed'].fillna(data['Self_Employed'].mode()[0])",
      "metadata": {
        "trusted": true
      },
      "execution_count": 29,
      "outputs": []
    },
    {
      "cell_type": "code",
      "source": "#Self Employee of removed null value:- 30% Testing data [Self Employed]",
      "metadata": {
        "trusted": true
      },
      "execution_count": 30,
      "outputs": []
    },
    {
      "cell_type": "code",
      "source": "data.isnull().sum()*100/ len(data)\n",
      "metadata": {
        "trusted": true
      },
      "execution_count": 31,
      "outputs": [
        {
          "execution_count": 31,
          "output_type": "execute_result",
          "data": {
            "text/plain": "Gender                      0.000000\nMarried                     0.000000\nDependents                  0.000000\nEducation                   0.000000\nSelf_Employed               0.000000\nApplicantIncome             0.000000\nCoapplicantIncome           0.000000\nLoan              Amount    0.000000\nLoan_Amount_Term            0.000000\nCredit_History              8.679928\nProperty_Area               0.000000\nLoan_Status                 0.000000\ndtype: float64"
          },
          "metadata": {}
        }
      ]
    },
    {
      "cell_type": "code",
      "source": "#check on unique value as Self_Employed and Credit_History\n",
      "metadata": {
        "trusted": true
      },
      "execution_count": 32,
      "outputs": []
    },
    {
      "cell_type": "code",
      "source": "data['Self_Employed'].unique()",
      "metadata": {
        "trusted": true
      },
      "execution_count": 33,
      "outputs": [
        {
          "execution_count": 33,
          "output_type": "execute_result",
          "data": {
            "text/plain": "array(['No', 'Yes'], dtype=object)"
          },
          "metadata": {}
        }
      ]
    },
    {
      "cell_type": "code",
      "source": "data['Credit_History'].unique()",
      "metadata": {
        "trusted": true
      },
      "execution_count": 34,
      "outputs": [
        {
          "execution_count": 34,
          "output_type": "execute_result",
          "data": {
            "text/plain": "array([ 1.,  0., nan])"
          },
          "metadata": {}
        }
      ]
    },
    {
      "cell_type": "code",
      "source": "data['Credit_History']=data['Credit_History'].fillna(data['Credit_History'].mode()[0])",
      "metadata": {
        "trusted": true
      },
      "execution_count": 35,
      "outputs": []
    },
    {
      "cell_type": "code",
      "source": "data.isnull().sum()*100/ len(data)",
      "metadata": {
        "trusted": true
      },
      "execution_count": 36,
      "outputs": [
        {
          "execution_count": 36,
          "output_type": "execute_result",
          "data": {
            "text/plain": "Gender                      0.0\nMarried                     0.0\nDependents                  0.0\nEducation                   0.0\nSelf_Employed               0.0\nApplicantIncome             0.0\nCoapplicantIncome           0.0\nLoan              Amount    0.0\nLoan_Amount_Term            0.0\nCredit_History              0.0\nProperty_Area               0.0\nLoan_Status                 0.0\ndtype: float64"
          },
          "metadata": {}
        }
      ]
    },
    {
      "cell_type": "code",
      "source": "#successfully handling the Missing Value",
      "metadata": {
        "trusted": true
      },
      "execution_count": 37,
      "outputs": []
    },
    {
      "cell_type": "code",
      "source": "#start- HandlingCategorical Columns",
      "metadata": {
        "trusted": true
      },
      "execution_count": 38,
      "outputs": []
    },
    {
      "cell_type": "code",
      "source": "data.sample(6)",
      "metadata": {
        "trusted": true
      },
      "execution_count": 39,
      "outputs": [
        {
          "execution_count": 39,
          "output_type": "execute_result",
          "data": {
            "text/plain": "     Gender Married Dependents     Education Self_Employed  ApplicantIncome  \\\n345    Male     Yes          0      Graduate            No             2499   \n405  Female      No          0      Graduate            No             4547   \n429    Male      No          0  Not Graduate            No             2717   \n312  Female      No          0      Graduate            No             2507   \n266    Male     Yes          2      Graduate            No             4708   \n9      Male     Yes          1      Graduate            No            12841   \n\n     CoapplicantIncome  Loan              Amount  Loan_Amount_Term  \\\n345             2458.0                     160.0             360.0   \n405                0.0                     115.0             360.0   \n429                0.0                      60.0             180.0   \n312                0.0                      56.0             360.0   \n266             1387.0                     150.0             360.0   \n9              10968.0                     349.0             360.0   \n\n     Credit_History Property_Area Loan_Status  \n345             1.0     Semiurban           Y  \n405             1.0     Semiurban           Y  \n429             1.0         Urban           Y  \n312             1.0         Rural           Y  \n266             1.0     Semiurban           Y  \n9               1.0     Semiurban           N  ",
            "text/html": "<div>\n<style scoped>\n    .dataframe tbody tr th:only-of-type {\n        vertical-align: middle;\n    }\n\n    .dataframe tbody tr th {\n        vertical-align: top;\n    }\n\n    .dataframe thead th {\n        text-align: right;\n    }\n</style>\n<table border=\"1\" class=\"dataframe\">\n  <thead>\n    <tr style=\"text-align: right;\">\n      <th></th>\n      <th>Gender</th>\n      <th>Married</th>\n      <th>Dependents</th>\n      <th>Education</th>\n      <th>Self_Employed</th>\n      <th>ApplicantIncome</th>\n      <th>CoapplicantIncome</th>\n      <th>Loan              Amount</th>\n      <th>Loan_Amount_Term</th>\n      <th>Credit_History</th>\n      <th>Property_Area</th>\n      <th>Loan_Status</th>\n    </tr>\n  </thead>\n  <tbody>\n    <tr>\n      <th>345</th>\n      <td>Male</td>\n      <td>Yes</td>\n      <td>0</td>\n      <td>Graduate</td>\n      <td>No</td>\n      <td>2499</td>\n      <td>2458.0</td>\n      <td>160.0</td>\n      <td>360.0</td>\n      <td>1.0</td>\n      <td>Semiurban</td>\n      <td>Y</td>\n    </tr>\n    <tr>\n      <th>405</th>\n      <td>Female</td>\n      <td>No</td>\n      <td>0</td>\n      <td>Graduate</td>\n      <td>No</td>\n      <td>4547</td>\n      <td>0.0</td>\n      <td>115.0</td>\n      <td>360.0</td>\n      <td>1.0</td>\n      <td>Semiurban</td>\n      <td>Y</td>\n    </tr>\n    <tr>\n      <th>429</th>\n      <td>Male</td>\n      <td>No</td>\n      <td>0</td>\n      <td>Not Graduate</td>\n      <td>No</td>\n      <td>2717</td>\n      <td>0.0</td>\n      <td>60.0</td>\n      <td>180.0</td>\n      <td>1.0</td>\n      <td>Urban</td>\n      <td>Y</td>\n    </tr>\n    <tr>\n      <th>312</th>\n      <td>Female</td>\n      <td>No</td>\n      <td>0</td>\n      <td>Graduate</td>\n      <td>No</td>\n      <td>2507</td>\n      <td>0.0</td>\n      <td>56.0</td>\n      <td>360.0</td>\n      <td>1.0</td>\n      <td>Rural</td>\n      <td>Y</td>\n    </tr>\n    <tr>\n      <th>266</th>\n      <td>Male</td>\n      <td>Yes</td>\n      <td>2</td>\n      <td>Graduate</td>\n      <td>No</td>\n      <td>4708</td>\n      <td>1387.0</td>\n      <td>150.0</td>\n      <td>360.0</td>\n      <td>1.0</td>\n      <td>Semiurban</td>\n      <td>Y</td>\n    </tr>\n    <tr>\n      <th>9</th>\n      <td>Male</td>\n      <td>Yes</td>\n      <td>1</td>\n      <td>Graduate</td>\n      <td>No</td>\n      <td>12841</td>\n      <td>10968.0</td>\n      <td>349.0</td>\n      <td>360.0</td>\n      <td>1.0</td>\n      <td>Semiurban</td>\n      <td>N</td>\n    </tr>\n  </tbody>\n</table>\n</div>"
          },
          "metadata": {}
        }
      ]
    },
    {
      "cell_type": "code",
      "source": "data['Dependents']=data['Dependents'].replace(to_replace=\"3+\",value='4')",
      "metadata": {
        "trusted": true
      },
      "execution_count": 40,
      "outputs": []
    },
    {
      "cell_type": "code",
      "source": "data['Dependents'].unique() #Check unique value",
      "metadata": {
        "trusted": true
      },
      "execution_count": 41,
      "outputs": [
        {
          "execution_count": 41,
          "output_type": "execute_result",
          "data": {
            "text/plain": "array(['1', '0', '2', '4'], dtype=object)"
          },
          "metadata": {}
        }
      ]
    },
    {
      "cell_type": "code",
      "source": "data['Gender'].unique()",
      "metadata": {
        "trusted": true
      },
      "execution_count": 42,
      "outputs": [
        {
          "execution_count": 42,
          "output_type": "execute_result",
          "data": {
            "text/plain": "array(['Male', 'Transgender', 'Female'], dtype=object)"
          },
          "metadata": {}
        }
      ]
    },
    {
      "cell_type": "code",
      "source": "data['Married'].unique()",
      "metadata": {
        "trusted": true
      },
      "execution_count": 43,
      "outputs": [
        {
          "execution_count": 43,
          "output_type": "execute_result",
          "data": {
            "text/plain": "array(['Yes', 'No'], dtype=object)"
          },
          "metadata": {}
        }
      ]
    },
    {
      "cell_type": "code",
      "source": "data['Education'].unique()",
      "metadata": {
        "trusted": true
      },
      "execution_count": 44,
      "outputs": [
        {
          "execution_count": 44,
          "output_type": "execute_result",
          "data": {
            "text/plain": "array(['Graduate', 'Not Graduate'], dtype=object)"
          },
          "metadata": {}
        }
      ]
    },
    {
      "cell_type": "code",
      "source": "data['Property_Area'].unique()",
      "metadata": {
        "trusted": true
      },
      "execution_count": 45,
      "outputs": [
        {
          "execution_count": 45,
          "output_type": "execute_result",
          "data": {
            "text/plain": "array(['Rural', 'Urban', 'Semiurban'], dtype=object)"
          },
          "metadata": {}
        }
      ]
    },
    {
      "cell_type": "code",
      "source": "data['Self_Employed'].unique()",
      "metadata": {
        "trusted": true
      },
      "execution_count": 46,
      "outputs": [
        {
          "execution_count": 46,
          "output_type": "execute_result",
          "data": {
            "text/plain": "array(['No', 'Yes'], dtype=object)"
          },
          "metadata": {}
        }
      ]
    },
    {
      "cell_type": "code",
      "source": "data['Loan_Status'].unique()",
      "metadata": {
        "trusted": true
      },
      "execution_count": 47,
      "outputs": [
        {
          "execution_count": 47,
          "output_type": "execute_result",
          "data": {
            "text/plain": "array(['N', 'Y'], dtype=object)"
          },
          "metadata": {}
        }
      ]
    },
    {
      "cell_type": "code",
      "source": "obj =(data.dtypes =='object')\nprint(\"Categorical variables:\",len(list(obj[obj].index)))\n",
      "metadata": {
        "trusted": true
      },
      "execution_count": 48,
      "outputs": [
        {
          "name": "stdout",
          "text": "Categorical variables: 7\n",
          "output_type": "stream"
        }
      ]
    },
    {
      "cell_type": "code",
      "source": "#Handling the Numerical Data",
      "metadata": {
        "trusted": true
      },
      "execution_count": 49,
      "outputs": []
    },
    {
      "cell_type": "code",
      "source": "data['Gender'] = data['Gender'].map({'Male':1,'Transgender':2,'Female':0}).astype('int')",
      "metadata": {
        "trusted": true
      },
      "execution_count": 50,
      "outputs": []
    },
    {
      "cell_type": "code",
      "source": "data['Gender'].unique()",
      "metadata": {
        "trusted": true
      },
      "execution_count": 51,
      "outputs": [
        {
          "execution_count": 51,
          "output_type": "execute_result",
          "data": {
            "text/plain": "array([1, 2, 0])"
          },
          "metadata": {}
        }
      ]
    },
    {
      "cell_type": "code",
      "source": "data['Married']=data['Married'].map({'Yes':1, 'No':0}).astype('int')",
      "metadata": {
        "trusted": true
      },
      "execution_count": 52,
      "outputs": []
    },
    {
      "cell_type": "code",
      "source": "data['Married'].unique()",
      "metadata": {
        "trusted": true
      },
      "execution_count": 53,
      "outputs": [
        {
          "execution_count": 53,
          "output_type": "execute_result",
          "data": {
            "text/plain": "array([1, 0])"
          },
          "metadata": {}
        }
      ]
    },
    {
      "cell_type": "code",
      "source": "data['Education']=data['Education'].map({'Graduate':1, 'Not Graduate':0}).astype('int')",
      "metadata": {
        "trusted": true
      },
      "execution_count": 54,
      "outputs": []
    },
    {
      "cell_type": "code",
      "source": "data['Education'].unique()",
      "metadata": {
        "trusted": true
      },
      "execution_count": 55,
      "outputs": [
        {
          "execution_count": 55,
          "output_type": "execute_result",
          "data": {
            "text/plain": "array([1, 0])"
          },
          "metadata": {}
        }
      ]
    },
    {
      "cell_type": "code",
      "source": "data['Self_Employed']=data['Self_Employed'].map({'No':0, 'Yes':1}).astype('int')",
      "metadata": {
        "trusted": true
      },
      "execution_count": 56,
      "outputs": []
    },
    {
      "cell_type": "code",
      "source": "data['Self_Employed'].unique()",
      "metadata": {
        "trusted": true
      },
      "execution_count": 57,
      "outputs": [
        {
          "execution_count": 57,
          "output_type": "execute_result",
          "data": {
            "text/plain": "array([0, 1])"
          },
          "metadata": {}
        }
      ]
    },
    {
      "cell_type": "code",
      "source": "data['Property_Area']=data['Property_Area'].map({'Rural':0, 'Urban':1, 'Semiurban':2}).astype('int')",
      "metadata": {
        "trusted": true
      },
      "execution_count": 58,
      "outputs": []
    },
    {
      "cell_type": "code",
      "source": "data['Property_Area'].unique()",
      "metadata": {
        "trusted": true
      },
      "execution_count": 59,
      "outputs": [
        {
          "execution_count": 59,
          "output_type": "execute_result",
          "data": {
            "text/plain": "array([0, 1, 2])"
          },
          "metadata": {}
        }
      ]
    },
    {
      "cell_type": "code",
      "source": "data['Loan_Status']=data['Loan_Status'].map({'N':0, 'Y':1}).astype('int')",
      "metadata": {
        "trusted": true
      },
      "execution_count": 60,
      "outputs": []
    },
    {
      "cell_type": "code",
      "source": "data['Loan_Status'].unique()",
      "metadata": {
        "trusted": true
      },
      "execution_count": 61,
      "outputs": [
        {
          "execution_count": 61,
          "output_type": "execute_result",
          "data": {
            "text/plain": "array([0, 1])"
          },
          "metadata": {}
        }
      ]
    },
    {
      "cell_type": "code",
      "source": "data.head(10)",
      "metadata": {
        "trusted": true
      },
      "execution_count": 62,
      "outputs": [
        {
          "execution_count": 62,
          "output_type": "execute_result",
          "data": {
            "text/plain": "    Gender  Married Dependents  Education  Self_Employed  ApplicantIncome  \\\n1        1        1          1          1              0             4583   \n2        1        1          0          1              1             3000   \n3        1        1          0          0              0             2583   \n4        1        0          0          1              0             6000   \n5        2        1          2          1              1             5417   \n6        1        1          0          0              0             2333   \n7        1        1          4          1              0             3036   \n8        1        1          2          1              0             4006   \n9        1        1          1          1              0            12841   \n10       1        1          2          1              0             3200   \n\n    CoapplicantIncome  Loan              Amount  Loan_Amount_Term  \\\n1              1508.0                     128.0             360.0   \n2                 0.0                      66.0             360.0   \n3              2358.0                     120.0             360.0   \n4                 0.0                     141.0             360.0   \n5              4196.0                     267.0             360.0   \n6              1516.0                      95.0             360.0   \n7              2504.0                     158.0             360.0   \n8              1526.0                     168.0             360.0   \n9             10968.0                     349.0             360.0   \n10              700.0                      70.0             360.0   \n\n    Credit_History  Property_Area  Loan_Status  \n1              1.0              0            0  \n2              1.0              1            1  \n3              1.0              1            1  \n4              1.0              1            1  \n5              1.0              1            1  \n6              1.0              1            1  \n7              0.0              2            0  \n8              1.0              1            1  \n9              1.0              2            0  \n10             1.0              1            1  ",
            "text/html": "<div>\n<style scoped>\n    .dataframe tbody tr th:only-of-type {\n        vertical-align: middle;\n    }\n\n    .dataframe tbody tr th {\n        vertical-align: top;\n    }\n\n    .dataframe thead th {\n        text-align: right;\n    }\n</style>\n<table border=\"1\" class=\"dataframe\">\n  <thead>\n    <tr style=\"text-align: right;\">\n      <th></th>\n      <th>Gender</th>\n      <th>Married</th>\n      <th>Dependents</th>\n      <th>Education</th>\n      <th>Self_Employed</th>\n      <th>ApplicantIncome</th>\n      <th>CoapplicantIncome</th>\n      <th>Loan              Amount</th>\n      <th>Loan_Amount_Term</th>\n      <th>Credit_History</th>\n      <th>Property_Area</th>\n      <th>Loan_Status</th>\n    </tr>\n  </thead>\n  <tbody>\n    <tr>\n      <th>1</th>\n      <td>1</td>\n      <td>1</td>\n      <td>1</td>\n      <td>1</td>\n      <td>0</td>\n      <td>4583</td>\n      <td>1508.0</td>\n      <td>128.0</td>\n      <td>360.0</td>\n      <td>1.0</td>\n      <td>0</td>\n      <td>0</td>\n    </tr>\n    <tr>\n      <th>2</th>\n      <td>1</td>\n      <td>1</td>\n      <td>0</td>\n      <td>1</td>\n      <td>1</td>\n      <td>3000</td>\n      <td>0.0</td>\n      <td>66.0</td>\n      <td>360.0</td>\n      <td>1.0</td>\n      <td>1</td>\n      <td>1</td>\n    </tr>\n    <tr>\n      <th>3</th>\n      <td>1</td>\n      <td>1</td>\n      <td>0</td>\n      <td>0</td>\n      <td>0</td>\n      <td>2583</td>\n      <td>2358.0</td>\n      <td>120.0</td>\n      <td>360.0</td>\n      <td>1.0</td>\n      <td>1</td>\n      <td>1</td>\n    </tr>\n    <tr>\n      <th>4</th>\n      <td>1</td>\n      <td>0</td>\n      <td>0</td>\n      <td>1</td>\n      <td>0</td>\n      <td>6000</td>\n      <td>0.0</td>\n      <td>141.0</td>\n      <td>360.0</td>\n      <td>1.0</td>\n      <td>1</td>\n      <td>1</td>\n    </tr>\n    <tr>\n      <th>5</th>\n      <td>2</td>\n      <td>1</td>\n      <td>2</td>\n      <td>1</td>\n      <td>1</td>\n      <td>5417</td>\n      <td>4196.0</td>\n      <td>267.0</td>\n      <td>360.0</td>\n      <td>1.0</td>\n      <td>1</td>\n      <td>1</td>\n    </tr>\n    <tr>\n      <th>6</th>\n      <td>1</td>\n      <td>1</td>\n      <td>0</td>\n      <td>0</td>\n      <td>0</td>\n      <td>2333</td>\n      <td>1516.0</td>\n      <td>95.0</td>\n      <td>360.0</td>\n      <td>1.0</td>\n      <td>1</td>\n      <td>1</td>\n    </tr>\n    <tr>\n      <th>7</th>\n      <td>1</td>\n      <td>1</td>\n      <td>4</td>\n      <td>1</td>\n      <td>0</td>\n      <td>3036</td>\n      <td>2504.0</td>\n      <td>158.0</td>\n      <td>360.0</td>\n      <td>0.0</td>\n      <td>2</td>\n      <td>0</td>\n    </tr>\n    <tr>\n      <th>8</th>\n      <td>1</td>\n      <td>1</td>\n      <td>2</td>\n      <td>1</td>\n      <td>0</td>\n      <td>4006</td>\n      <td>1526.0</td>\n      <td>168.0</td>\n      <td>360.0</td>\n      <td>1.0</td>\n      <td>1</td>\n      <td>1</td>\n    </tr>\n    <tr>\n      <th>9</th>\n      <td>1</td>\n      <td>1</td>\n      <td>1</td>\n      <td>1</td>\n      <td>0</td>\n      <td>12841</td>\n      <td>10968.0</td>\n      <td>349.0</td>\n      <td>360.0</td>\n      <td>1.0</td>\n      <td>2</td>\n      <td>0</td>\n    </tr>\n    <tr>\n      <th>10</th>\n      <td>1</td>\n      <td>1</td>\n      <td>2</td>\n      <td>1</td>\n      <td>0</td>\n      <td>3200</td>\n      <td>700.0</td>\n      <td>70.0</td>\n      <td>360.0</td>\n      <td>1.0</td>\n      <td>1</td>\n      <td>1</td>\n    </tr>\n  </tbody>\n</table>\n</div>"
          },
          "metadata": {}
        }
      ]
    },
    {
      "cell_type": "code",
      "source": "#Store feature matrix in X and Response (Target)in vector Y\n",
      "metadata": {
        "trusted": true
      },
      "execution_count": 65,
      "outputs": []
    },
    {
      "cell_type": "code",
      "source": "X=data.drop('Loan_Status',axis=1)",
      "metadata": {
        "trusted": true
      },
      "execution_count": 66,
      "outputs": []
    },
    {
      "cell_type": "code",
      "source": "y=data['Loan_Status']",
      "metadata": {
        "trusted": true
      },
      "execution_count": 67,
      "outputs": []
    },
    {
      "cell_type": "code",
      "source": "y",
      "metadata": {
        "trusted": true
      },
      "execution_count": 68,
      "outputs": [
        {
          "execution_count": 68,
          "output_type": "execute_result",
          "data": {
            "text/plain": "1      0\n2      1\n3      1\n4      1\n5      1\n      ..\n609    1\n610    1\n611    1\n612    1\n613    0\nName: Loan_Status, Length: 553, dtype: int32"
          },
          "metadata": {}
        }
      ]
    },
    {
      "cell_type": "code",
      "source": "data.head()",
      "metadata": {
        "trusted": true
      },
      "execution_count": 69,
      "outputs": [
        {
          "execution_count": 69,
          "output_type": "execute_result",
          "data": {
            "text/plain": "   Gender  Married Dependents  Education  Self_Employed  ApplicantIncome  \\\n1       1        1          1          1              0             4583   \n2       1        1          0          1              1             3000   \n3       1        1          0          0              0             2583   \n4       1        0          0          1              0             6000   \n5       2        1          2          1              1             5417   \n\n   CoapplicantIncome  Loan              Amount  Loan_Amount_Term  \\\n1             1508.0                     128.0             360.0   \n2                0.0                      66.0             360.0   \n3             2358.0                     120.0             360.0   \n4                0.0                     141.0             360.0   \n5             4196.0                     267.0             360.0   \n\n   Credit_History  Property_Area  Loan_Status  \n1             1.0              0            0  \n2             1.0              1            1  \n3             1.0              1            1  \n4             1.0              1            1  \n5             1.0              1            1  ",
            "text/html": "<div>\n<style scoped>\n    .dataframe tbody tr th:only-of-type {\n        vertical-align: middle;\n    }\n\n    .dataframe tbody tr th {\n        vertical-align: top;\n    }\n\n    .dataframe thead th {\n        text-align: right;\n    }\n</style>\n<table border=\"1\" class=\"dataframe\">\n  <thead>\n    <tr style=\"text-align: right;\">\n      <th></th>\n      <th>Gender</th>\n      <th>Married</th>\n      <th>Dependents</th>\n      <th>Education</th>\n      <th>Self_Employed</th>\n      <th>ApplicantIncome</th>\n      <th>CoapplicantIncome</th>\n      <th>Loan              Amount</th>\n      <th>Loan_Amount_Term</th>\n      <th>Credit_History</th>\n      <th>Property_Area</th>\n      <th>Loan_Status</th>\n    </tr>\n  </thead>\n  <tbody>\n    <tr>\n      <th>1</th>\n      <td>1</td>\n      <td>1</td>\n      <td>1</td>\n      <td>1</td>\n      <td>0</td>\n      <td>4583</td>\n      <td>1508.0</td>\n      <td>128.0</td>\n      <td>360.0</td>\n      <td>1.0</td>\n      <td>0</td>\n      <td>0</td>\n    </tr>\n    <tr>\n      <th>2</th>\n      <td>1</td>\n      <td>1</td>\n      <td>0</td>\n      <td>1</td>\n      <td>1</td>\n      <td>3000</td>\n      <td>0.0</td>\n      <td>66.0</td>\n      <td>360.0</td>\n      <td>1.0</td>\n      <td>1</td>\n      <td>1</td>\n    </tr>\n    <tr>\n      <th>3</th>\n      <td>1</td>\n      <td>1</td>\n      <td>0</td>\n      <td>0</td>\n      <td>0</td>\n      <td>2583</td>\n      <td>2358.0</td>\n      <td>120.0</td>\n      <td>360.0</td>\n      <td>1.0</td>\n      <td>1</td>\n      <td>1</td>\n    </tr>\n    <tr>\n      <th>4</th>\n      <td>1</td>\n      <td>0</td>\n      <td>0</td>\n      <td>1</td>\n      <td>0</td>\n      <td>6000</td>\n      <td>0.0</td>\n      <td>141.0</td>\n      <td>360.0</td>\n      <td>1.0</td>\n      <td>1</td>\n      <td>1</td>\n    </tr>\n    <tr>\n      <th>5</th>\n      <td>2</td>\n      <td>1</td>\n      <td>2</td>\n      <td>1</td>\n      <td>1</td>\n      <td>5417</td>\n      <td>4196.0</td>\n      <td>267.0</td>\n      <td>360.0</td>\n      <td>1.0</td>\n      <td>1</td>\n      <td>1</td>\n    </tr>\n  </tbody>\n</table>\n</div>"
          },
          "metadata": {}
        }
      ]
    },
    {
      "cell_type": "code",
      "source": "#Feature scaling",
      "metadata": {
        "trusted": true
      },
      "execution_count": 95,
      "outputs": []
    },
    {
      "cell_type": "code",
      "source": "columns=['ApplicantIncome','CoapplicantIncome','Loan              Amount','Loan_Amount_Term']",
      "metadata": {
        "trusted": true
      },
      "execution_count": 96,
      "outputs": []
    },
    {
      "cell_type": "code",
      "source": "from sklearn.preprocessing import StandardScaler\nst=StandardScaler()\nX[columns]=st.fit_transform(X[columns])\n",
      "metadata": {
        "trusted": true
      },
      "execution_count": 97,
      "outputs": []
    },
    {
      "cell_type": "code",
      "source": "X",
      "metadata": {
        "trusted": true
      },
      "execution_count": 98,
      "outputs": [
        {
          "execution_count": 98,
          "output_type": "execute_result",
          "data": {
            "text/plain": "     Gender  Married Dependents  Education  Self_Employed  ApplicantIncome  \\\n1         1        1          1          1              0        -0.128694   \n2         1        1          0          1              1        -0.394296   \n3         1        1          0          0              0        -0.464262   \n4         1        0          0          1              0         0.109057   \n5         2        1          2          1              1         0.011239   \n..      ...      ...        ...        ...            ...              ...   \n609       0        0          0          1              0        -0.411075   \n610       1        1          4          1              0        -0.208727   \n611       1        1          1          1              0         0.456706   \n612       1        1          2          1              0         0.374659   \n613       0        0          0          1              1        -0.128694   \n\n     CoapplicantIncome  Loan              Amount  Loan_Amount_Term  \\\n1            -0.049699                 -0.214368          0.279961   \n2            -0.545638                 -0.952675          0.279961   \n3             0.229842                 -0.309634          0.279961   \n4            -0.545638                 -0.059562          0.279961   \n5             0.834309                  1.440866          0.279961   \n..                 ...                       ...               ...   \n609          -0.545638                 -0.893134          0.279961   \n610          -0.545638                 -1.262287         -2.468292   \n611          -0.466709                  1.274152          0.279961   \n612          -0.545638                  0.488213          0.279961   \n613          -0.545638                 -0.154828          0.279961   \n\n     Credit_History  Property_Area  \n1               1.0              0  \n2               1.0              1  \n3               1.0              1  \n4               1.0              1  \n5               1.0              1  \n..              ...            ...  \n609             1.0              0  \n610             1.0              0  \n611             1.0              1  \n612             1.0              1  \n613             0.0              2  \n\n[553 rows x 11 columns]",
            "text/html": "<div>\n<style scoped>\n    .dataframe tbody tr th:only-of-type {\n        vertical-align: middle;\n    }\n\n    .dataframe tbody tr th {\n        vertical-align: top;\n    }\n\n    .dataframe thead th {\n        text-align: right;\n    }\n</style>\n<table border=\"1\" class=\"dataframe\">\n  <thead>\n    <tr style=\"text-align: right;\">\n      <th></th>\n      <th>Gender</th>\n      <th>Married</th>\n      <th>Dependents</th>\n      <th>Education</th>\n      <th>Self_Employed</th>\n      <th>ApplicantIncome</th>\n      <th>CoapplicantIncome</th>\n      <th>Loan              Amount</th>\n      <th>Loan_Amount_Term</th>\n      <th>Credit_History</th>\n      <th>Property_Area</th>\n    </tr>\n  </thead>\n  <tbody>\n    <tr>\n      <th>1</th>\n      <td>1</td>\n      <td>1</td>\n      <td>1</td>\n      <td>1</td>\n      <td>0</td>\n      <td>-0.128694</td>\n      <td>-0.049699</td>\n      <td>-0.214368</td>\n      <td>0.279961</td>\n      <td>1.0</td>\n      <td>0</td>\n    </tr>\n    <tr>\n      <th>2</th>\n      <td>1</td>\n      <td>1</td>\n      <td>0</td>\n      <td>1</td>\n      <td>1</td>\n      <td>-0.394296</td>\n      <td>-0.545638</td>\n      <td>-0.952675</td>\n      <td>0.279961</td>\n      <td>1.0</td>\n      <td>1</td>\n    </tr>\n    <tr>\n      <th>3</th>\n      <td>1</td>\n      <td>1</td>\n      <td>0</td>\n      <td>0</td>\n      <td>0</td>\n      <td>-0.464262</td>\n      <td>0.229842</td>\n      <td>-0.309634</td>\n      <td>0.279961</td>\n      <td>1.0</td>\n      <td>1</td>\n    </tr>\n    <tr>\n      <th>4</th>\n      <td>1</td>\n      <td>0</td>\n      <td>0</td>\n      <td>1</td>\n      <td>0</td>\n      <td>0.109057</td>\n      <td>-0.545638</td>\n      <td>-0.059562</td>\n      <td>0.279961</td>\n      <td>1.0</td>\n      <td>1</td>\n    </tr>\n    <tr>\n      <th>5</th>\n      <td>2</td>\n      <td>1</td>\n      <td>2</td>\n      <td>1</td>\n      <td>1</td>\n      <td>0.011239</td>\n      <td>0.834309</td>\n      <td>1.440866</td>\n      <td>0.279961</td>\n      <td>1.0</td>\n      <td>1</td>\n    </tr>\n    <tr>\n      <th>...</th>\n      <td>...</td>\n      <td>...</td>\n      <td>...</td>\n      <td>...</td>\n      <td>...</td>\n      <td>...</td>\n      <td>...</td>\n      <td>...</td>\n      <td>...</td>\n      <td>...</td>\n      <td>...</td>\n    </tr>\n    <tr>\n      <th>609</th>\n      <td>0</td>\n      <td>0</td>\n      <td>0</td>\n      <td>1</td>\n      <td>0</td>\n      <td>-0.411075</td>\n      <td>-0.545638</td>\n      <td>-0.893134</td>\n      <td>0.279961</td>\n      <td>1.0</td>\n      <td>0</td>\n    </tr>\n    <tr>\n      <th>610</th>\n      <td>1</td>\n      <td>1</td>\n      <td>4</td>\n      <td>1</td>\n      <td>0</td>\n      <td>-0.208727</td>\n      <td>-0.545638</td>\n      <td>-1.262287</td>\n      <td>-2.468292</td>\n      <td>1.0</td>\n      <td>0</td>\n    </tr>\n    <tr>\n      <th>611</th>\n      <td>1</td>\n      <td>1</td>\n      <td>1</td>\n      <td>1</td>\n      <td>0</td>\n      <td>0.456706</td>\n      <td>-0.466709</td>\n      <td>1.274152</td>\n      <td>0.279961</td>\n      <td>1.0</td>\n      <td>1</td>\n    </tr>\n    <tr>\n      <th>612</th>\n      <td>1</td>\n      <td>1</td>\n      <td>2</td>\n      <td>1</td>\n      <td>0</td>\n      <td>0.374659</td>\n      <td>-0.545638</td>\n      <td>0.488213</td>\n      <td>0.279961</td>\n      <td>1.0</td>\n      <td>1</td>\n    </tr>\n    <tr>\n      <th>613</th>\n      <td>0</td>\n      <td>0</td>\n      <td>0</td>\n      <td>1</td>\n      <td>1</td>\n      <td>-0.128694</td>\n      <td>-0.545638</td>\n      <td>-0.154828</td>\n      <td>0.279961</td>\n      <td>0.0</td>\n      <td>2</td>\n    </tr>\n  </tbody>\n</table>\n<p>553 rows × 11 columns</p>\n</div>"
          },
          "metadata": {}
        }
      ]
    },
    {
      "cell_type": "code",
      "source": "from sklearn.model_selection import train_test_split\nfrom sklearn.model_selection import cross_val_score\n# from sklearn.metrices import accuracy_score",
      "metadata": {
        "trusted": true
      },
      "execution_count": 110,
      "outputs": []
    },
    {
      "cell_type": "code",
      "source": "",
      "metadata": {},
      "execution_count": null,
      "outputs": []
    }
  ]
}